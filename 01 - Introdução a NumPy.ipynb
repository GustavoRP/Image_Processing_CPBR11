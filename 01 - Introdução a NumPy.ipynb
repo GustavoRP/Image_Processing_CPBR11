{
 "cells": [
  {
   "cell_type": "markdown",
   "metadata": {},
   "source": [
    "# Introdução a NumPy"
   ]
  },
  {
   "cell_type": "code",
   "execution_count": 1,
   "metadata": {
    "ExecuteTime": {
     "end_time": "2018-02-03T20:30:56.437885Z",
     "start_time": "2018-02-03T20:30:54.638507Z"
    },
    "collapsed": true
   },
   "outputs": [],
   "source": [
    "import numpy as np"
   ]
  },
  {
   "cell_type": "code",
   "execution_count": 2,
   "metadata": {
    "ExecuteTime": {
     "end_time": "2018-02-03T20:30:57.197463Z",
     "start_time": "2018-02-03T20:30:57.182464Z"
    }
   },
   "outputs": [
    {
     "name": "stdout",
     "output_type": "stream",
     "text": [
      "[ 0  1  2  3  4  5  6  7  8  9 10 11 12 13 14 15 16 17 18 19 20 21 22 23]\n"
     ]
    }
   ],
   "source": [
    "A = np.arange(24)\n",
    "print(A)"
   ]
  },
  {
   "cell_type": "code",
   "execution_count": 3,
   "metadata": {
    "ExecuteTime": {
     "end_time": "2018-02-03T20:30:58.064570Z",
     "start_time": "2018-02-03T20:30:58.058566Z"
    }
   },
   "outputs": [
    {
     "name": "stdout",
     "output_type": "stream",
     "text": [
      "[[ 8  9 10 11 12 13]\n",
      " [14 15 16 17 18 19]\n",
      " [20 21 22 23 24 25]\n",
      " [26 27 28 29 30 31]]\n"
     ]
    }
   ],
   "source": [
    "A = np.arange(8,8+24).reshape(4,6)\n",
    "print(A)"
   ]
  },
  {
   "cell_type": "markdown",
   "metadata": {},
   "source": [
    "### rows, cols, dimensions, shape and datatype"
   ]
  },
  {
   "cell_type": "code",
   "execution_count": 4,
   "metadata": {
    "ExecuteTime": {
     "end_time": "2018-02-03T20:30:59.812034Z",
     "start_time": "2018-02-03T20:30:59.800024Z"
    }
   },
   "outputs": [
    {
     "name": "stdout",
     "output_type": "stream",
     "text": [
      "number of rows =  4\n",
      "number of cols =  6\n",
      "number of dimensions =  2\n",
      "shape =  (4, 6)\n",
      "datatype =  int32\n"
     ]
    }
   ],
   "source": [
    "# print the number of rows of A:\n",
    "print(\"number of rows = \", A.shape[0])\n",
    "\n",
    "# print the number of cols of A:\n",
    "print(\"number of cols = \", A.shape[1])\n",
    "\n",
    "# print the number of dimensions of A:\n",
    "print(\"number of dimensions = \", A.ndim)\n",
    "\n",
    "# print the shape of A:\n",
    "print(\"shape = \", A.shape)\n",
    "\n",
    "# print the datatype of the elements of A\n",
    "print(\"datatype = \", A.dtype )"
   ]
  },
  {
   "cell_type": "code",
   "execution_count": 5,
   "metadata": {
    "ExecuteTime": {
     "end_time": "2018-02-03T20:31:03.094079Z",
     "start_time": "2018-02-03T20:31:03.087059Z"
    }
   },
   "outputs": [
    {
     "name": "stdout",
     "output_type": "stream",
     "text": [
      "A = \n",
      " [[ 8  9 10 11 12 13]\n",
      " [14 15 16 17 18 19]\n",
      " [20 21 22 23 24 25]\n",
      " [26 27 28 29 30 31]]\n",
      "B = \n",
      " [[ 1.  1.  1.  1.  1.  1.]\n",
      " [ 1.  0.  0.  0.  0.  0.]\n",
      " [ 0.  0.  0.  0.  0.  0.]\n",
      " [ 0.  0.  0.  0.  0.  0.]]\n"
     ]
    }
   ],
   "source": [
    "# create a boolean matrix B with True if the element of A é less than 15 (without using a loop)\n",
    "B = A < 15\n",
    "print(\"A = \\n\", A)\n",
    "print(\"B = \\n\", B * 1.0)"
   ]
  },
  {
   "cell_type": "markdown",
   "metadata": {},
   "source": [
    "### Axis reduction: sum"
   ]
  },
  {
   "cell_type": "code",
   "execution_count": 6,
   "metadata": {
    "ExecuteTime": {
     "end_time": "2018-02-03T20:36:22.560758Z",
     "start_time": "2018-02-03T20:36:22.552738Z"
    }
   },
   "outputs": [
    {
     "name": "stdout",
     "output_type": "stream",
     "text": [
      "[68 72 76 80 84 88]\n",
      "[ 63  99 135 171]\n"
     ]
    }
   ],
   "source": [
    "print(A.sum(axis=0))\n",
    "print(A.sum(axis=1))"
   ]
  },
  {
   "cell_type": "code",
   "execution_count": 7,
   "metadata": {
    "ExecuteTime": {
     "end_time": "2018-02-03T20:36:22.935253Z",
     "start_time": "2018-02-03T20:36:22.928250Z"
    }
   },
   "outputs": [
    {
     "name": "stdout",
     "output_type": "stream",
     "text": [
      "number of dimensions =  1\n",
      "mean =  19.5\n"
     ]
    }
   ],
   "source": [
    "# what is the number of dimensions of the array C = A.sum(axis=0)?\n",
    "#R: It must be 1 because it is the sum a 2d array in one axis\n",
    "C = A.sum(axis=0)\n",
    "print(\"number of dimensions = \", C.ndim)\n",
    "\n",
    "# compute the mean value of the array A\n",
    "mean = C.sum(axis=0)/(A.shape[0] * A.shape[1])\n",
    "print(\"mean = \", mean)"
   ]
  },
  {
   "cell_type": "code",
   "execution_count": 8,
   "metadata": {
    "ExecuteTime": {
     "end_time": "2018-02-03T20:36:23.896720Z",
     "start_time": "2018-02-03T20:36:23.888714Z"
    }
   },
   "outputs": [
    {
     "name": "stdout",
     "output_type": "stream",
     "text": [
      "C = \n",
      " [[ 0.          0.04347826  0.08695652  0.13043478  0.17391304  0.2173913 ]\n",
      " [ 0.26086957  0.30434783  0.34782609  0.39130435  0.43478261  0.47826087]\n",
      " [ 0.52173913  0.56521739  0.60869565  0.65217391  0.69565217  0.73913043]\n",
      " [ 0.7826087   0.82608696  0.86956522  0.91304348  0.95652174  1.        ]]\n"
     ]
    }
   ],
   "source": [
    "# create a matrix C that is a normalization of A, so that its value are between 0.0 and 1.0\n",
    "C = A - np.min(A)\n",
    "C = C/np.max(C)\n",
    "\n",
    "print(\"C = \\n\", C)"
   ]
  },
  {
   "cell_type": "code",
   "execution_count": 9,
   "metadata": {
    "ExecuteTime": {
     "end_time": "2018-02-03T20:36:24.456089Z",
     "start_time": "2018-02-03T20:36:24.449086Z"
    }
   },
   "outputs": [
    {
     "name": "stdout",
     "output_type": "stream",
     "text": [
      "D = \n",
      " [[ 0.          0.          0.          0.          0.          0.        ]\n",
      " [ 0.33333333  0.33333333  0.33333333  0.33333333  0.33333333  0.33333333]\n",
      " [ 0.66666667  0.66666667  0.66666667  0.66666667  0.66666667  0.66666667]\n",
      " [ 1.          1.          1.          1.          1.          1.        ]]\n"
     ]
    }
   ],
   "source": [
    "# create a matrix D that is a nomalization of the columns of A, so that each column of D has values between 0. and 1.\n",
    "D = A - np.min(A,axis=0)\n",
    "D = D / D.max(axis=0)\n",
    "print(\"D = \\n\", D)"
   ]
  },
  {
   "cell_type": "markdown",
   "metadata": {},
   "source": [
    "### Slicing"
   ]
  },
  {
   "cell_type": "code",
   "execution_count": 12,
   "metadata": {
    "ExecuteTime": {
     "end_time": "2018-02-03T20:37:22.636011Z",
     "start_time": "2018-02-03T20:37:22.629005Z"
    }
   },
   "outputs": [
    {
     "name": "stdout",
     "output_type": "stream",
     "text": [
      "[[ 9 11 13]\n",
      " [15 17 19]\n",
      " [21 23 25]\n",
      " [27 29 31]]\n"
     ]
    }
   ],
   "source": [
    "# this operation is called slicing:\n",
    "AA = A[:,1::2]\n",
    "print(AA)"
   ]
  },
  {
   "cell_type": "code",
   "execution_count": 13,
   "metadata": {
    "ExecuteTime": {
     "end_time": "2018-02-03T20:37:23.373794Z",
     "start_time": "2018-02-03T20:37:23.367790Z"
    }
   },
   "outputs": [
    {
     "name": "stdout",
     "output_type": "stream",
     "text": [
      "AB = \n",
      " [[14 15 16 17 18 19]\n",
      " [26 27 28 29 30 31]]\n"
     ]
    }
   ],
   "source": [
    "# create matrix AB with the odd rows of matrix A, using the concept of slicing:\n",
    "AB = A[1::2,:]\n",
    "print(\"AB = \\n\", AB)"
   ]
  },
  {
   "cell_type": "markdown",
   "metadata": {},
   "source": [
    "### Matrix dot product"
   ]
  },
  {
   "cell_type": "code",
   "execution_count": 42,
   "metadata": {
    "ExecuteTime": {
     "end_time": "2018-02-03T11:04:32.182211Z",
     "start_time": "2018-02-03T11:04:27.527852Z"
    }
   },
   "outputs": [
    {
     "name": "stdout",
     "output_type": "stream",
     "text": [
      "The slowest run took 25.81 times longer than the fastest. This could mean that an intermediate result is being cached.\n",
      "100000 loops, best of 3: 6.51 µs per loop\n",
      "The slowest run took 42.50 times longer than the fastest. This could mean that an intermediate result is being cached.\n",
      "1000000 loops, best of 3: 461 ns per loop\n",
      "AC = \n",
      " [[13 19 25 31]\n",
      " [12 18 24 30]\n",
      " [11 17 23 29]\n",
      " [10 16 22 28]\n",
      " [ 9 15 21 27]\n",
      " [ 8 14 20 26]]\n"
     ]
    }
   ],
   "source": [
    "# create a matrix AC which is a rotation of 90 degrees anti-clockwise of the matrix A\n",
    "%timeit AC = np.rot90(A)\n",
    "%timeit AC = A.T[::-1,:]\n",
    "\n",
    "AC = A.T[::-1,:]\n",
    "\n",
    "print(\"AC = \\n\", AC)"
   ]
  },
  {
   "cell_type": "markdown",
   "metadata": {},
   "source": [
    "Compute $$ E = A A^T $$"
   ]
  },
  {
   "cell_type": "code",
   "execution_count": 43,
   "metadata": {
    "ExecuteTime": {
     "end_time": "2018-02-03T11:05:25.830892Z",
     "start_time": "2018-02-03T11:05:16.166023Z"
    }
   },
   "outputs": [
    {
     "name": "stdout",
     "output_type": "stream",
     "text": [
      "The slowest run took 20.63 times longer than the fastest. This could mean that an intermediate result is being cached.\n",
      "1000000 loops, best of 3: 1.17 µs per loop\n",
      "The slowest run took 8.12 times longer than the fastest. This could mean that an intermediate result is being cached.\n",
      "1000000 loops, best of 3: 1.15 µs per loop\n",
      "[[ 679 1057 1435 1813]\n",
      " [1057 1651 2245 2839]\n",
      " [1435 2245 3055 3865]\n",
      " [1813 2839 3865 4891]]\n"
     ]
    }
   ],
   "source": [
    "%timeit E = np.dot(A, A.T)\n",
    "%timeit E = A.dot(A.T)\n",
    "\n",
    "E = np.dot(A, A.T)\n",
    "\n",
    "print(E)"
   ]
  },
  {
   "cell_type": "markdown",
   "metadata": {},
   "source": [
    "### 3-D array"
   ]
  },
  {
   "cell_type": "code",
   "execution_count": 44,
   "metadata": {
    "ExecuteTime": {
     "end_time": "2018-02-03T11:05:33.244829Z",
     "start_time": "2018-02-03T11:05:33.238828Z"
    }
   },
   "outputs": [
    {
     "name": "stdout",
     "output_type": "stream",
     "text": [
      "[[[ 8  9 10]\n",
      "  [11 12 13]\n",
      "  [14 15 16]\n",
      "  [17 18 19]]\n",
      "\n",
      " [[20 21 22]\n",
      "  [23 24 25]\n",
      "  [26 27 28]\n",
      "  [29 30 31]]]\n"
     ]
    }
   ],
   "source": [
    "F = A.reshape(2,4,3)\n",
    "print(F)"
   ]
  },
  {
   "cell_type": "code",
   "execution_count": 45,
   "metadata": {
    "ExecuteTime": {
     "end_time": "2018-02-03T11:05:42.617248Z",
     "start_time": "2018-02-03T11:05:42.609242Z"
    }
   },
   "outputs": [
    {
     "name": "stdout",
     "output_type": "stream",
     "text": [
      "number of dimensions =  3\n",
      "shape of F =  (2, 4, 3)\n",
      "mean value of the two matrices F[0] and F[1] =  [ 13.5  25.5]\n"
     ]
    }
   ],
   "source": [
    "# print the number of dimensions of F\n",
    "print(\"number of dimensions = \", F.ndim)\n",
    "\n",
    "# print the shape of F\n",
    "print(\"shape of F = \", F.shape)\n",
    "\n",
    "# compute the mean value of the two matrices F[0] and F[1], using a single command using F.mean(??)\n",
    "# print(\"mean value of the two matrices F[0] and F[1] = \", F.mean(2).mean(1))\n",
    "\n",
    "print(\"mean value of the two matrices F[0] and F[1] = \", F.mean(axis = (1, 2)))"
   ]
  },
  {
   "cell_type": "code",
   "execution_count": 46,
   "metadata": {
    "ExecuteTime": {
     "end_time": "2018-02-03T11:05:49.311322Z",
     "start_time": "2018-02-03T11:05:49.306319Z"
    }
   },
   "outputs": [
    {
     "name": "stdout",
     "output_type": "stream",
     "text": [
      "[1 2 3 4]\n"
     ]
    }
   ],
   "source": [
    "v = np.array([1,2,3,4])\n",
    "# print(a)\n",
    "print(v)"
   ]
  },
  {
   "cell_type": "markdown",
   "metadata": {},
   "source": [
    "### Broadcasting\n",
    "\n",
    "- What is the concept of broadcasting in NumPy?\n",
    "- Answer:\n",
    "\n",
    "It is when a smaller array does an operation across a bigger array without an explicit loop.\n",
    "The dimensions must be adequate in order to perform this operation.\n",
    "\n",
    "\n",
    "For example, the smaller matrix b is broadcast across the matrix a.\n",
    "\n",
    "Further informaton can be found [here](https://docs.scipy.org/doc/numpy/user/basics.broadcasting.html)."
   ]
  },
  {
   "cell_type": "code",
   "execution_count": 47,
   "metadata": {
    "ExecuteTime": {
     "end_time": "2018-02-03T11:06:21.694832Z",
     "start_time": "2018-02-03T11:06:21.685824Z"
    }
   },
   "outputs": [
    {
     "data": {
      "text/plain": [
       "array([[  3.,  12.,  24.],\n",
       "       [ 12.,  30.,  48.]])"
      ]
     },
     "execution_count": 47,
     "metadata": {},
     "output_type": "execute_result"
    }
   ],
   "source": [
    "#Broadcasting example\n",
    "a = np.array([[1.0, 2.0, 3.0], [4.0, 5.0, 6.0]])\n",
    "b = np.array([3, 6, 8])\n",
    "a * b"
   ]
  },
  {
   "cell_type": "code",
   "execution_count": 48,
   "metadata": {
    "ExecuteTime": {
     "end_time": "2018-02-03T11:06:51.045326Z",
     "start_time": "2018-02-03T11:06:35.070928Z"
    }
   },
   "outputs": [
    {
     "name": "stdout",
     "output_type": "stream",
     "text": [
      "The slowest run took 26.48 times longer than the fastest. This could mean that an intermediate result is being cached.\n",
      "100000 loops, best of 3: 3.22 µs per loop\n",
      "The slowest run took 6.69 times longer than the fastest. This could mean that an intermediate result is being cached.\n",
      "1000000 loops, best of 3: 1.88 µs per loop\n",
      "The slowest run took 8.40 times longer than the fastest. This could mean that an intermediate result is being cached.\n",
      "1000000 loops, best of 3: 1.61 µs per loop\n",
      "G = \n",
      " [[ 9 10 11 12 13 14]\n",
      " [16 17 18 19 20 21]\n",
      " [23 24 25 26 27 28]\n",
      " [30 31 32 33 34 35]]\n"
     ]
    }
   ],
   "source": [
    "# Using the concept of broadcasting, create matrix G with the sum of vector v to every column of A:\n",
    "\n",
    "G = A.T + v\n",
    "G = G.T\n",
    "\n",
    "%timeit G = np.expand_dims(v, axis=1) + A\n",
    "\n",
    "%timeit G = v.reshape(len(v),1) + A\n",
    "\n",
    "%timeit G = v[:,None] + A\n",
    "\n",
    "print(\"G = \\n\", G)"
   ]
  },
  {
   "cell_type": "markdown",
   "metadata": {},
   "source": [
    "### Function - one-hot encoding\n",
    "\n",
    "Define a function that receives as input an one-dimensional array and the output a one-hot encoding following the example:"
   ]
  },
  {
   "cell_type": "code",
   "execution_count": 49,
   "metadata": {
    "ExecuteTime": {
     "end_time": "2018-02-03T11:07:09.280647Z",
     "start_time": "2018-02-03T11:07:09.274645Z"
    }
   },
   "outputs": [
    {
     "name": "stdout",
     "output_type": "stream",
     "text": [
      "[2 0 3 2 1]\n"
     ]
    }
   ],
   "source": [
    "# input\n",
    "aa = np.array([2,0,3,2,1])\n",
    "print(aa)"
   ]
  },
  {
   "cell_type": "code",
   "execution_count": 50,
   "metadata": {
    "ExecuteTime": {
     "end_time": "2018-02-03T11:07:15.778217Z",
     "start_time": "2018-02-03T11:07:15.772214Z"
    }
   },
   "outputs": [
    {
     "name": "stdout",
     "output_type": "stream",
     "text": [
      "[[0 0 1 0]\n",
      " [1 0 0 0]\n",
      " [0 0 0 1]\n",
      " [0 0 1 0]\n",
      " [0 1 0 0]]\n"
     ]
    }
   ],
   "source": [
    "# output\n",
    "oo = np.array([[0,0,1,0],\n",
    "               [1,0,0,0],\n",
    "               [0,0,0,1],\n",
    "               [0,0,1,0],\n",
    "               [0,1,0,0]])\n",
    "print(oo)"
   ]
  },
  {
   "cell_type": "code",
   "execution_count": 54,
   "metadata": {
    "ExecuteTime": {
     "end_time": "2018-02-03T11:28:25.815989Z",
     "start_time": "2018-02-03T11:28:25.804985Z"
    }
   },
   "outputs": [
    {
     "name": "stdout",
     "output_type": "stream",
     "text": [
      "[[0 0 1 0]\n",
      " [1 0 0 0]\n",
      " [0 0 0 1]\n",
      " [0 0 1 0]\n",
      " [0 1 0 0]]\n",
      "[[0 1 0 0 0 0]\n",
      " [0 0 0 1 0 0]\n",
      " [0 0 1 0 0 0]\n",
      " [1 0 0 0 0 0]\n",
      " [0 0 0 0 0 1]\n",
      " [0 0 0 0 1 0]]\n"
     ]
    }
   ],
   "source": [
    "# Try to avoid explicit loop as much as possible\n",
    "# Use only NumPy operations, no other libraries\n",
    "def one_hot(i):\n",
    "    # insert your code here\n",
    "    \n",
    "    M = np.zeros((i.size,np.max(i)+1), dtype=np.int8)\n",
    "    M[np.arange(i.size),i] = 1    \n",
    "    \n",
    "    return M\n",
    "\n",
    "print(one_hot(aa))\n",
    "\n",
    "# test with other vectors\n",
    "print(one_hot(np.array([1, 3, 2, 0, 5, 4]))) # The arguments are the index, not the lable"
   ]
  }
 ],
 "metadata": {
  "kernelspec": {
   "display_name": "Python 3",
   "language": "python",
   "name": "python3"
  },
  "language_info": {
   "codemirror_mode": {
    "name": "ipython",
    "version": 3
   },
   "file_extension": ".py",
   "mimetype": "text/x-python",
   "name": "python",
   "nbconvert_exporter": "python",
   "pygments_lexer": "ipython3",
   "version": "3.5.3"
  }
 },
 "nbformat": 4,
 "nbformat_minor": 2
}
